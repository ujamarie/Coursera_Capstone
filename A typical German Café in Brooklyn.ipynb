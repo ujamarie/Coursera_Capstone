{
 "cells": [
  {
   "cell_type": "markdown",
   "metadata": {
    "collapsed": true
   },
   "source": [
    "# Final Capstone Project - Report"
   ]
  },
  {
   "cell_type": "markdown",
   "metadata": {},
   "source": [
    "## A typical German Café in New York (Brooklyn)"
   ]
  },
  {
   "cell_type": "markdown",
   "metadata": {},
   "source": [
    "### Introduction/Business Problem"
   ]
  },
  {
   "cell_type": "markdown",
   "metadata": {},
   "source": [
    "New York is one of the worlds biggest and most famous cities. It is also the hometown of about 8.5 million people and is divided in 5 very different boroughs: the Bronx, Brooklyn, Manhattan, Queens and Staten Island.\n",
    "\n",
    "A friend of mine wants to open a typical German Café (with e.g. Black Forest Cherry Cake) in New York (Brooklyn). But unfortunately she has no idea which neighbourhoodd suits best. For this reason I offered her to explore and analyse the different neighbourhoods to find out where Cafés and German Restaurants are already located."
   ]
  },
  {
   "cell_type": "markdown",
   "metadata": {},
   "source": [
    "### Data"
   ]
  },
  {
   "cell_type": "markdown",
   "metadata": {},
   "source": [
    "Via Foursquare I will get the location data from New York (including latitude and longitude as well as the venue category). I will analyse and sort the data to find out in which neighbourhoods of Manhattan there are already German Cafés (Cafés and German restaurants). Afterwards I will try to cluster and visualize the data so it is easier to see where Cafés and German restaurants are in demand and can survive."
   ]
  },
  {
   "cell_type": "markdown",
   "metadata": {},
   "source": [
    "### Methodology"
   ]
  },
  {
   "cell_type": "markdown",
   "metadata": {},
   "source": [
    "First, I used and opend the New York data set from the lab, which contains the different boroughs, neighbourhoods and lat/long. Next I filtered these data set to only get Brooklyn data. To get a better feeling I visualized it using folium. \n",
    "\n",
    "After this I used Foursquare API to get venue information (top 100, with radius of 500m). With one hot encoding and mean it was easier to see how often you can find each venue in each neighbourhood. Then I created a dataframe with the top ten venues in each neighbourhood. \n",
    "\n",
    "This dataframe was the basis for my k means clustering. I tried different amounts of clusters (4, 5, 6, 8 and 10), but finally decided to take 5 clusters. In the end I printed out each cluster with its neighbourhoods and top ten clusters and started exploring them (searching for cafés, bakeries and German restaurants)."
   ]
  },
  {
   "cell_type": "markdown",
   "metadata": {},
   "source": [
    "### Code"
   ]
  },
  {
   "cell_type": "markdown",
   "metadata": {},
   "source": [
    "1) Importing libraries\n",
    "\n",
    "2) Getting location data from link/server\n",
    "\n",
    "3) Creating a dataframe with location data\n",
    "\n",
    "4) Visualizing NY data to map with folium\n",
    "\n",
    "5) Filter to only get Brooklyn data\n",
    "\n",
    "6) Using Foursquare to get location/venue information (100 venues, 500m radius)\n",
    "\n",
    "7) Put data in a dataframe and use one hot encoding and mean to see which venue can be found where\n",
    "\n",
    "8) Get the top ten venues for each neighbourhood\n",
    "\n",
    "9) Use this data for k means clustering --> dataframe with borough, nieghbourhood, long, lat, cluster nr, top 1-10 venue\n",
    "\n",
    "10) Visualize the different clusters on a map with folium\n",
    "\n",
    "11) Explore the different clusters\n",
    "\n",
    "12) Conclusion which cluster fits best"
   ]
  },
  {
   "cell_type": "markdown",
   "metadata": {},
   "source": [
    "### Discussion"
   ]
  },
  {
   "cell_type": "markdown",
   "metadata": {},
   "source": [
    "There are many many more venues than only 100 in Brooklyn --> higher chance to find more German restaurants\n",
    "\n",
    "Talking to a person living there would generate insider information about where to locate/open a typical German café\n",
    "\n",
    "Exploring other borrows in New York, maybe Manhattan as possible locations for opening a café\n",
    "\n",
    "Choosing a location where there already are many cafés and German restaurants could have a negative impact and reduce revenue because the other stores are older and more famous"
   ]
  },
  {
   "cell_type": "markdown",
   "metadata": {},
   "source": [
    "### Conclusion"
   ]
  },
  {
   "cell_type": "markdown",
   "metadata": {},
   "source": [
    "The outcome of k-means algorithm does not favour one special location for opening a typical german café quite the contrary cafés, bakeries and German restaurants are spread all over Brooklyn."
   ]
  },
  {
   "cell_type": "code",
   "execution_count": null,
   "metadata": {},
   "outputs": [],
   "source": []
  }
 ],
 "metadata": {
  "kernelspec": {
   "display_name": "Python 3.5",
   "language": "python",
   "name": "python3"
  },
  "language_info": {
   "codemirror_mode": {
    "name": "ipython",
    "version": 3
   },
   "file_extension": ".py",
   "mimetype": "text/x-python",
   "name": "python",
   "nbconvert_exporter": "python",
   "pygments_lexer": "ipython3",
   "version": "3.5.5"
  }
 },
 "nbformat": 4,
 "nbformat_minor": 1
}
